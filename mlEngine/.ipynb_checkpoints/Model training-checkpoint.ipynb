{
 "cells": [
  {
   "cell_type": "code",
   "execution_count": 2,
   "metadata": {
    "collapsed": true
   },
   "outputs": [],
   "source": [
    "import requests\n",
    "import pandas as pd\n",
    "from sklearn.ensemble import RandomForestClassifier\n",
    "from sklearn.externals import joblib\n",
    "from scipy import fft, arange\n",
    "import json\n",
    "import pyrebase"
   ]
  },
  {
   "cell_type": "code",
   "execution_count": 3,
   "metadata": {
    "collapsed": true
   },
   "outputs": [],
   "source": [
    "config = json.load(open('./private/config.json'))\n",
    "\n",
    "firebase = pyrebase.initialize_app(config)\n",
    "db = firebase.database()\n",
    "\n",
    "\n",
    "def pushtoDB(payload):\n",
    "\tpayloadKey = list(payload)[0]\n",
    "\tdata = payload[payloadKey] \n",
    "\tdb.child(payloadKey).set(data)\n",
    "\treturn  json.dumps({\"success\": 1})\n",
    "\n",
    "def getDB():\n",
    "\treturn db.get().val()\n",
    "\n",
    "def deleteAll():\n",
    "\tdb.set({})\n",
    "\treturn json.dumps({\"success\": 1})"
   ]
  },
  {
   "cell_type": "code",
   "execution_count": 4,
   "metadata": {
    "collapsed": true
   },
   "outputs": [],
   "source": [
    "r = getDB()\n",
    "r = r['data']"
   ]
  },
  {
   "cell_type": "code",
   "execution_count": 5,
   "metadata": {
    "collapsed": true
   },
   "outputs": [],
   "source": [
    "df =pd.DataFrame()\n",
    "y=[]\n",
    "for key in r:\n",
    "    y.append(r[key]['prediction'])\n",
    "    x = []\n",
    "    for sample in r[key]['datapoints']:\n",
    "        x.append(sample['ax'])\n",
    "        x.append(sample['ay'])\n",
    "        x.append(sample['az'])\n",
    "        x.append(sample['gx'])\n",
    "        x.append(sample['gy'])\n",
    "        x.append(sample['gz'])\n",
    "    df=pd.concat([df,pd.DataFrame(x).transpose()])\n",
    "\n",
    "df.reset_index(drop=True, inplace=True) \n",
    "df = df[df.columns[0:120]]\n",
    "df.fillna(value=0, inplace=True)\n",
    "# take only first 20 columns\n",
    "y = pd.get_dummies(y)\n",
    "ymap = y.columns"
   ]
  },
  {
   "cell_type": "code",
   "execution_count": 6,
   "metadata": {},
   "outputs": [
    {
     "data": {
      "text/html": [
       "<div>\n",
       "<style>\n",
       "    .dataframe thead tr:only-child th {\n",
       "        text-align: right;\n",
       "    }\n",
       "\n",
       "    .dataframe thead th {\n",
       "        text-align: left;\n",
       "    }\n",
       "\n",
       "    .dataframe tbody tr th {\n",
       "        vertical-align: top;\n",
       "    }\n",
       "</style>\n",
       "<table border=\"1\" class=\"dataframe\">\n",
       "  <thead>\n",
       "    <tr style=\"text-align: right;\">\n",
       "      <th></th>\n",
       "      <th>0</th>\n",
       "      <th>1</th>\n",
       "      <th>2</th>\n",
       "      <th>3</th>\n",
       "      <th>4</th>\n",
       "      <th>5</th>\n",
       "      <th>6</th>\n",
       "      <th>7</th>\n",
       "      <th>8</th>\n",
       "      <th>9</th>\n",
       "      <th>...</th>\n",
       "      <th>110</th>\n",
       "      <th>111</th>\n",
       "      <th>112</th>\n",
       "      <th>113</th>\n",
       "      <th>114</th>\n",
       "      <th>115</th>\n",
       "      <th>116</th>\n",
       "      <th>117</th>\n",
       "      <th>118</th>\n",
       "      <th>119</th>\n",
       "    </tr>\n",
       "  </thead>\n",
       "  <tbody>\n",
       "    <tr>\n",
       "      <th>0</th>\n",
       "      <td>0.148972</td>\n",
       "      <td>-0.272308</td>\n",
       "      <td>-0.907806</td>\n",
       "      <td>-0.329643</td>\n",
       "      <td>-0.348913</td>\n",
       "      <td>-0.151315</td>\n",
       "      <td>0.143143</td>\n",
       "      <td>-0.273575</td>\n",
       "      <td>-0.961304</td>\n",
       "      <td>-1.826095</td>\n",
       "      <td>...</td>\n",
       "      <td>-1.263458</td>\n",
       "      <td>0.189870</td>\n",
       "      <td>0.299546</td>\n",
       "      <td>0.088445</td>\n",
       "      <td>-0.093903</td>\n",
       "      <td>-0.143906</td>\n",
       "      <td>-1.041748</td>\n",
       "      <td>0.234859</td>\n",
       "      <td>0.131649</td>\n",
       "      <td>-0.044328</td>\n",
       "    </tr>\n",
       "    <tr>\n",
       "      <th>1</th>\n",
       "      <td>0.089371</td>\n",
       "      <td>-0.186249</td>\n",
       "      <td>-0.972000</td>\n",
       "      <td>-0.063619</td>\n",
       "      <td>-0.153382</td>\n",
       "      <td>-0.071475</td>\n",
       "      <td>0.087524</td>\n",
       "      <td>-0.196747</td>\n",
       "      <td>-1.012772</td>\n",
       "      <td>-0.224193</td>\n",
       "      <td>...</td>\n",
       "      <td>-1.156235</td>\n",
       "      <td>0.390914</td>\n",
       "      <td>0.240631</td>\n",
       "      <td>0.062555</td>\n",
       "      <td>-0.016006</td>\n",
       "      <td>-0.149261</td>\n",
       "      <td>-0.976929</td>\n",
       "      <td>-0.287814</td>\n",
       "      <td>-0.319969</td>\n",
       "      <td>-0.329707</td>\n",
       "    </tr>\n",
       "    <tr>\n",
       "      <th>2</th>\n",
       "      <td>-0.151413</td>\n",
       "      <td>-0.283417</td>\n",
       "      <td>-0.977158</td>\n",
       "      <td>0.035538</td>\n",
       "      <td>-0.013706</td>\n",
       "      <td>-0.021875</td>\n",
       "      <td>-0.153519</td>\n",
       "      <td>-0.278305</td>\n",
       "      <td>-0.950363</td>\n",
       "      <td>-0.064154</td>\n",
       "      <td>...</td>\n",
       "      <td>-0.965286</td>\n",
       "      <td>-0.078880</td>\n",
       "      <td>0.133709</td>\n",
       "      <td>0.200437</td>\n",
       "      <td>-0.121689</td>\n",
       "      <td>-0.229477</td>\n",
       "      <td>-0.970551</td>\n",
       "      <td>-0.013847</td>\n",
       "      <td>0.101005</td>\n",
       "      <td>0.054280</td>\n",
       "    </tr>\n",
       "    <tr>\n",
       "      <th>3</th>\n",
       "      <td>-0.082504</td>\n",
       "      <td>-0.243515</td>\n",
       "      <td>-0.997314</td>\n",
       "      <td>-0.044553</td>\n",
       "      <td>0.179652</td>\n",
       "      <td>0.020891</td>\n",
       "      <td>-0.034164</td>\n",
       "      <td>-0.227783</td>\n",
       "      <td>-0.986816</td>\n",
       "      <td>-0.034155</td>\n",
       "      <td>...</td>\n",
       "      <td>-0.984695</td>\n",
       "      <td>-0.054164</td>\n",
       "      <td>-0.115015</td>\n",
       "      <td>-0.146954</td>\n",
       "      <td>-0.013214</td>\n",
       "      <td>-0.219910</td>\n",
       "      <td>-0.969421</td>\n",
       "      <td>-0.019627</td>\n",
       "      <td>-0.106377</td>\n",
       "      <td>-0.178407</td>\n",
       "    </tr>\n",
       "    <tr>\n",
       "      <th>4</th>\n",
       "      <td>0.009186</td>\n",
       "      <td>-0.243484</td>\n",
       "      <td>-0.944733</td>\n",
       "      <td>-0.243911</td>\n",
       "      <td>0.008794</td>\n",
       "      <td>-0.025962</td>\n",
       "      <td>0.005432</td>\n",
       "      <td>-0.237900</td>\n",
       "      <td>-0.974533</td>\n",
       "      <td>-0.253866</td>\n",
       "      <td>...</td>\n",
       "      <td>-1.020767</td>\n",
       "      <td>0.016852</td>\n",
       "      <td>2.405686</td>\n",
       "      <td>-0.119195</td>\n",
       "      <td>0.042725</td>\n",
       "      <td>-0.019501</td>\n",
       "      <td>-1.075653</td>\n",
       "      <td>0.040943</td>\n",
       "      <td>1.520602</td>\n",
       "      <td>-0.205247</td>\n",
       "    </tr>\n",
       "    <tr>\n",
       "      <th>5</th>\n",
       "      <td>-0.135345</td>\n",
       "      <td>-0.107437</td>\n",
       "      <td>-0.962555</td>\n",
       "      <td>-0.094749</td>\n",
       "      <td>-0.008850</td>\n",
       "      <td>0.066801</td>\n",
       "      <td>-0.142715</td>\n",
       "      <td>-0.081146</td>\n",
       "      <td>-0.964828</td>\n",
       "      <td>-0.125619</td>\n",
       "      <td>...</td>\n",
       "      <td>-0.678207</td>\n",
       "      <td>-0.123959</td>\n",
       "      <td>-1.271915</td>\n",
       "      <td>0.216070</td>\n",
       "      <td>0.640533</td>\n",
       "      <td>-0.133942</td>\n",
       "      <td>-0.776169</td>\n",
       "      <td>-0.068103</td>\n",
       "      <td>-1.913306</td>\n",
       "      <td>0.249100</td>\n",
       "    </tr>\n",
       "    <tr>\n",
       "      <th>6</th>\n",
       "      <td>0.139771</td>\n",
       "      <td>-0.103256</td>\n",
       "      <td>-0.985535</td>\n",
       "      <td>-0.758284</td>\n",
       "      <td>0.033712</td>\n",
       "      <td>-0.010061</td>\n",
       "      <td>0.176605</td>\n",
       "      <td>-0.048859</td>\n",
       "      <td>-1.104172</td>\n",
       "      <td>0.039608</td>\n",
       "      <td>...</td>\n",
       "      <td>-0.510971</td>\n",
       "      <td>0.622647</td>\n",
       "      <td>0.077637</td>\n",
       "      <td>-0.155918</td>\n",
       "      <td>0.146317</td>\n",
       "      <td>-0.386688</td>\n",
       "      <td>-0.442413</td>\n",
       "      <td>-0.147395</td>\n",
       "      <td>0.236832</td>\n",
       "      <td>-0.113768</td>\n",
       "    </tr>\n",
       "    <tr>\n",
       "      <th>7</th>\n",
       "      <td>0.134628</td>\n",
       "      <td>-0.010803</td>\n",
       "      <td>-1.321808</td>\n",
       "      <td>0.145257</td>\n",
       "      <td>0.041907</td>\n",
       "      <td>0.131149</td>\n",
       "      <td>0.143921</td>\n",
       "      <td>-0.005508</td>\n",
       "      <td>-1.571655</td>\n",
       "      <td>1.350070</td>\n",
       "      <td>...</td>\n",
       "      <td>-0.371689</td>\n",
       "      <td>-1.046817</td>\n",
       "      <td>-0.341862</td>\n",
       "      <td>0.267625</td>\n",
       "      <td>0.150330</td>\n",
       "      <td>-0.270279</td>\n",
       "      <td>-0.653656</td>\n",
       "      <td>-2.002709</td>\n",
       "      <td>-0.165086</td>\n",
       "      <td>0.092845</td>\n",
       "    </tr>\n",
       "    <tr>\n",
       "      <th>8</th>\n",
       "      <td>-0.155197</td>\n",
       "      <td>-0.906769</td>\n",
       "      <td>-0.387787</td>\n",
       "      <td>0.035257</td>\n",
       "      <td>0.020298</td>\n",
       "      <td>0.068753</td>\n",
       "      <td>-0.226685</td>\n",
       "      <td>-0.904037</td>\n",
       "      <td>-0.350311</td>\n",
       "      <td>0.068781</td>\n",
       "      <td>...</td>\n",
       "      <td>0.000000</td>\n",
       "      <td>0.000000</td>\n",
       "      <td>0.000000</td>\n",
       "      <td>0.000000</td>\n",
       "      <td>0.000000</td>\n",
       "      <td>0.000000</td>\n",
       "      <td>0.000000</td>\n",
       "      <td>0.000000</td>\n",
       "      <td>0.000000</td>\n",
       "      <td>0.000000</td>\n",
       "    </tr>\n",
       "    <tr>\n",
       "      <th>9</th>\n",
       "      <td>-0.431870</td>\n",
       "      <td>-0.690521</td>\n",
       "      <td>-0.619431</td>\n",
       "      <td>-0.024210</td>\n",
       "      <td>0.085979</td>\n",
       "      <td>0.268323</td>\n",
       "      <td>-0.488785</td>\n",
       "      <td>-0.607590</td>\n",
       "      <td>-0.596756</td>\n",
       "      <td>0.213141</td>\n",
       "      <td>...</td>\n",
       "      <td>0.000000</td>\n",
       "      <td>0.000000</td>\n",
       "      <td>0.000000</td>\n",
       "      <td>0.000000</td>\n",
       "      <td>0.000000</td>\n",
       "      <td>0.000000</td>\n",
       "      <td>0.000000</td>\n",
       "      <td>0.000000</td>\n",
       "      <td>0.000000</td>\n",
       "      <td>0.000000</td>\n",
       "    </tr>\n",
       "  </tbody>\n",
       "</table>\n",
       "<p>10 rows × 120 columns</p>\n",
       "</div>"
      ],
      "text/plain": [
       "        0         1         2         3         4         5         6    \\\n",
       "0  0.148972 -0.272308 -0.907806 -0.329643 -0.348913 -0.151315  0.143143   \n",
       "1  0.089371 -0.186249 -0.972000 -0.063619 -0.153382 -0.071475  0.087524   \n",
       "2 -0.151413 -0.283417 -0.977158  0.035538 -0.013706 -0.021875 -0.153519   \n",
       "3 -0.082504 -0.243515 -0.997314 -0.044553  0.179652  0.020891 -0.034164   \n",
       "4  0.009186 -0.243484 -0.944733 -0.243911  0.008794 -0.025962  0.005432   \n",
       "5 -0.135345 -0.107437 -0.962555 -0.094749 -0.008850  0.066801 -0.142715   \n",
       "6  0.139771 -0.103256 -0.985535 -0.758284  0.033712 -0.010061  0.176605   \n",
       "7  0.134628 -0.010803 -1.321808  0.145257  0.041907  0.131149  0.143921   \n",
       "8 -0.155197 -0.906769 -0.387787  0.035257  0.020298  0.068753 -0.226685   \n",
       "9 -0.431870 -0.690521 -0.619431 -0.024210  0.085979  0.268323 -0.488785   \n",
       "\n",
       "        7         8         9      ...          110       111       112  \\\n",
       "0 -0.273575 -0.961304 -1.826095    ...    -1.263458  0.189870  0.299546   \n",
       "1 -0.196747 -1.012772 -0.224193    ...    -1.156235  0.390914  0.240631   \n",
       "2 -0.278305 -0.950363 -0.064154    ...    -0.965286 -0.078880  0.133709   \n",
       "3 -0.227783 -0.986816 -0.034155    ...    -0.984695 -0.054164 -0.115015   \n",
       "4 -0.237900 -0.974533 -0.253866    ...    -1.020767  0.016852  2.405686   \n",
       "5 -0.081146 -0.964828 -0.125619    ...    -0.678207 -0.123959 -1.271915   \n",
       "6 -0.048859 -1.104172  0.039608    ...    -0.510971  0.622647  0.077637   \n",
       "7 -0.005508 -1.571655  1.350070    ...    -0.371689 -1.046817 -0.341862   \n",
       "8 -0.904037 -0.350311  0.068781    ...     0.000000  0.000000  0.000000   \n",
       "9 -0.607590 -0.596756  0.213141    ...     0.000000  0.000000  0.000000   \n",
       "\n",
       "        113       114       115       116       117       118       119  \n",
       "0  0.088445 -0.093903 -0.143906 -1.041748  0.234859  0.131649 -0.044328  \n",
       "1  0.062555 -0.016006 -0.149261 -0.976929 -0.287814 -0.319969 -0.329707  \n",
       "2  0.200437 -0.121689 -0.229477 -0.970551 -0.013847  0.101005  0.054280  \n",
       "3 -0.146954 -0.013214 -0.219910 -0.969421 -0.019627 -0.106377 -0.178407  \n",
       "4 -0.119195  0.042725 -0.019501 -1.075653  0.040943  1.520602 -0.205247  \n",
       "5  0.216070  0.640533 -0.133942 -0.776169 -0.068103 -1.913306  0.249100  \n",
       "6 -0.155918  0.146317 -0.386688 -0.442413 -0.147395  0.236832 -0.113768  \n",
       "7  0.267625  0.150330 -0.270279 -0.653656 -2.002709 -0.165086  0.092845  \n",
       "8  0.000000  0.000000  0.000000  0.000000  0.000000  0.000000  0.000000  \n",
       "9  0.000000  0.000000  0.000000  0.000000  0.000000  0.000000  0.000000  \n",
       "\n",
       "[10 rows x 120 columns]"
      ]
     },
     "execution_count": 6,
     "metadata": {},
     "output_type": "execute_result"
    }
   ],
   "source": [
    "df"
   ]
  },
  {
   "cell_type": "code",
   "execution_count": 220,
   "metadata": {},
   "outputs": [
    {
     "data": {
      "text/plain": [
       "['model.pkl']"
      ]
     },
     "execution_count": 220,
     "metadata": {},
     "output_type": "execute_result"
    }
   ],
   "source": [
    "\n",
    "rn = RandomForestClassifier()\n",
    "model = rn.fit(df, y)\n",
    "joblib.dump(model, 'model.pkl') \n"
   ]
  },
  {
   "cell_type": "code",
   "execution_count": null,
   "metadata": {
    "collapsed": true
   },
   "outputs": [],
   "source": []
  },
  {
   "cell_type": "code",
   "execution_count": null,
   "metadata": {
    "collapsed": true
   },
   "outputs": [],
   "source": []
  },
  {
   "cell_type": "code",
   "execution_count": null,
   "metadata": {},
   "outputs": [],
   "source": [
    "def pad_or_truncate(alist, target_len):\n",
    "    return alist[:target_len] + [0]*(target_len - len(alist))"
   ]
  },
  {
   "cell_type": "code",
   "execution_count": 26,
   "metadata": {},
   "outputs": [
    {
     "data": {
      "text/plain": [
       "'motion1'"
      ]
     },
     "execution_count": 26,
     "metadata": {},
     "output_type": "execute_result"
    }
   ],
   "source": [
    "payload = r[list(r.keys())[6]]\n",
    "model = joblib.load(\"model.pkl\") \n",
    "x = []\n",
    "datapoints = payload['datapoints']\n",
    "for sample in datapoints:\n",
    "    x.append(sample['ax'])\n",
    "    x.append(sample['ay'])\n",
    "    x.append(sample['az'])\n",
    "    x.append(sample['gx'])\n",
    "    x.append(sample['gy'])\n",
    "    x.append(sample['gz'])\n",
    "x = pad_or_truncate(x, 120)\n",
    "prediction = model.predict(np.array(x).reshape(1, -1))\n",
    "predMapped = ymap[(prediction[0]).argmax()]\n",
    "predMapped"
   ]
  },
  {
   "cell_type": "code",
   "execution_count": null,
   "metadata": {
    "collapsed": true
   },
   "outputs": [],
   "source": []
  },
  {
   "cell_type": "code",
   "execution_count": 36,
   "metadata": {
    "collapsed": true
   },
   "outputs": [],
   "source": []
  },
  {
   "cell_type": "code",
   "execution_count": 50,
   "metadata": {},
   "outputs": [],
   "source": []
  },
  {
   "cell_type": "code",
   "execution_count": 51,
   "metadata": {},
   "outputs": [
    {
     "data": {
      "text/plain": [
       "(120,)"
      ]
     },
     "execution_count": 51,
     "metadata": {},
     "output_type": "execute_result"
    }
   ],
   "source": [
    "np.array(x).shape"
   ]
  },
  {
   "cell_type": "code",
   "execution_count": 42,
   "metadata": {
    "collapsed": true
   },
   "outputs": [],
   "source": []
  },
  {
   "cell_type": "code",
   "execution_count": null,
   "metadata": {
    "collapsed": true
   },
   "outputs": [],
   "source": [
    "\n"
   ]
  },
  {
   "cell_type": "code",
   "execution_count": null,
   "metadata": {
    "collapsed": true
   },
   "outputs": [],
   "source": []
  },
  {
   "cell_type": "code",
   "execution_count": null,
   "metadata": {
    "collapsed": true
   },
   "outputs": [],
   "source": []
  },
  {
   "cell_type": "code",
   "execution_count": null,
   "metadata": {
    "collapsed": true
   },
   "outputs": [],
   "source": []
  },
  {
   "cell_type": "code",
   "execution_count": null,
   "metadata": {
    "collapsed": true
   },
   "outputs": [],
   "source": []
  },
  {
   "cell_type": "code",
   "execution_count": null,
   "metadata": {
    "collapsed": true
   },
   "outputs": [],
   "source": []
  },
  {
   "cell_type": "code",
   "execution_count": null,
   "metadata": {
    "collapsed": true
   },
   "outputs": [],
   "source": []
  }
 ],
 "metadata": {
  "kernelspec": {
   "display_name": "Python 3",
   "language": "python",
   "name": "python3"
  },
  "language_info": {
   "codemirror_mode": {
    "name": "ipython",
    "version": 3
   },
   "file_extension": ".py",
   "mimetype": "text/x-python",
   "name": "python",
   "nbconvert_exporter": "python",
   "pygments_lexer": "ipython3",
   "version": "3.6.3"
  }
 },
 "nbformat": 4,
 "nbformat_minor": 2
}
