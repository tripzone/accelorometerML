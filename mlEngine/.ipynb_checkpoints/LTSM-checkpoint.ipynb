{
 "cells": [
  {
   "cell_type": "code",
   "execution_count": 1,
   "metadata": {},
   "outputs": [
    {
     "name": "stderr",
     "output_type": "stream",
     "text": [
      "Using TensorFlow backend.\n",
      "/Users/kzahir/anaconda3/lib/python3.6/importlib/_bootstrap.py:219: RuntimeWarning: compiletime version 3.5 of module 'tensorflow.python.framework.fast_tensor_util' does not match runtime version 3.6\n",
      "  return f(*args, **kwds)\n"
     ]
    }
   ],
   "source": [
    "from keras.models import Sequential\n",
    "from keras.layers import Dense\n",
    "from keras.layers import LSTM\n",
    "from numpy import array\n",
    "from keras.models import load_model\n",
    "import pandas as pd\n",
    "import json\n",
    "import numpy as np\n",
    "  "
   ]
  },
  {
   "cell_type": "code",
   "execution_count": 2,
   "metadata": {
    "collapsed": true
   },
   "outputs": [],
   "source": [
    "# return training data\n",
    "def get_train():\n",
    "    seq = [[0.0, 0.1], [0.2, 0.3], [0.4, 0.5], [0.6, -0.7], [0.8, -0.9]]\n",
    "    X = array(seq)\n",
    "    y= array([1,1,1,0,0])\n",
    "    y = array([[1,0],[1,0],[1,0],[0,1],[0,1]])\n",
    "#     X, y = seq[:, 0], seq[:, 1]\n",
    "    X = X.reshape((len(X), 2, 1))\n",
    "    return X, y\n",
    " \n"
   ]
  },
  {
   "cell_type": "code",
   "execution_count": null,
   "metadata": {
    "collapsed": true
   },
   "outputs": [],
   "source": []
  },
  {
   "cell_type": "code",
   "execution_count": 3,
   "metadata": {
    "collapsed": true
   },
   "outputs": [],
   "source": [
    "# define model\n",
    "model = Sequential()\n",
    "model.add(LSTM(10, input_shape=(2,1)))\n",
    "model.add(Dense(2, activation='sigmoid'))\n",
    "# compile model\n",
    "model.compile(loss='binary_crossentropy', optimizer='adam')\n",
    "# fit model\n",
    "X,y = get_train()\n"
   ]
  },
  {
   "cell_type": "code",
   "execution_count": 4,
   "metadata": {},
   "outputs": [
    {
     "data": {
      "text/plain": [
       "<keras.callbacks.History at 0x181712bf28>"
      ]
     },
     "execution_count": 4,
     "metadata": {},
     "output_type": "execute_result"
    }
   ],
   "source": [
    "model.fit(X, y, epochs=300, shuffle=False, verbose=0)\n",
    "# save model to single file\n",
    "# model.save('lstm_model.h5')"
   ]
  },
  {
   "cell_type": "code",
   "execution_count": 7,
   "metadata": {},
   "outputs": [
    {
     "data": {
      "text/plain": [
       "array([[[ 1. ],\n",
       "        [ 1.1]]])"
      ]
     },
     "execution_count": 7,
     "metadata": {},
     "output_type": "execute_result"
    }
   ],
   "source": [
    "ll =array([1,1.1]).reshape(1,2,1)\n",
    "ll"
   ]
  },
  {
   "cell_type": "code",
   "execution_count": 8,
   "metadata": {},
   "outputs": [
    {
     "name": "stdout",
     "output_type": "stream",
     "text": [
      "[[ 0.83679175  0.31727001]]\n"
     ]
    }
   ],
   "source": [
    "# load model from single file\n",
    "# model = load_model('lstm_model.h5')\n",
    "# make predictions\n",
    "yhat = model.predict(ll, verbose=0)\n",
    "print(yhat)"
   ]
  },
  {
   "cell_type": "code",
   "execution_count": null,
   "metadata": {
    "collapsed": true
   },
   "outputs": [],
   "source": []
  },
  {
   "cell_type": "code",
   "execution_count": 9,
   "metadata": {
    "collapsed": true
   },
   "outputs": [],
   "source": [
    "data = json.load(open('./data/motionpredict-export (1).json'))"
   ]
  },
  {
   "cell_type": "code",
   "execution_count": 10,
   "metadata": {},
   "outputs": [],
   "source": [
    "df =pd.DataFrame()\n",
    "y = []\n",
    "x=[]\n",
    "\n",
    "for key in data.keys():\n",
    "    instance = data[key][:20]\n",
    "    arr = []\n",
    "    for sample in instance:\n",
    "        arr.append([sample['accelerationX'], sample['accelerationY'], sample['accelerationZ']])\n",
    "    x.append(arr)\n",
    "    y.append(instance[0]['button'])\n",
    "    df=pd.concat([df,pd.DataFrame(arr).transpose()])\n",
    "y = pd.get_dummies(y)\n",
    "y= y.as_matrix()\n",
    "trainx = x[:-2]\n",
    "testx = x[-2:]\n",
    "trainy = y[:-2]\n",
    "testy = y[-2:]"
   ]
  },
  {
   "cell_type": "code",
   "execution_count": 11,
   "metadata": {},
   "outputs": [
    {
     "data": {
      "text/plain": [
       "(24, 2)"
      ]
     },
     "execution_count": 11,
     "metadata": {},
     "output_type": "execute_result"
    }
   ],
   "source": [
    "np.shape(y)"
   ]
  },
  {
   "cell_type": "code",
   "execution_count": 12,
   "metadata": {},
   "outputs": [
    {
     "data": {
      "text/plain": [
       "<keras.callbacks.History at 0x1820abe518>"
      ]
     },
     "execution_count": 12,
     "metadata": {},
     "output_type": "execute_result"
    }
   ],
   "source": [
    "model = Sequential()\n",
    "model.add(LSTM(10, input_shape=(20,3)))\n",
    "model.add(Dense(2, activation='sigmoid'))\n",
    "# compile model\n",
    "model.compile(loss='binary_crossentropy', optimizer='adam')\n",
    "# fit model\n",
    "model.fit(trainx, trainy, epochs=300, shuffle=False, verbose=0)\n",
    "\n"
   ]
  },
  {
   "cell_type": "code",
   "execution_count": 13,
   "metadata": {},
   "outputs": [
    {
     "data": {
      "text/plain": [
       "array([[ 0.01721849,  0.96189517],\n",
       "       [ 0.01932299,  0.9401775 ]], dtype=float32)"
      ]
     },
     "execution_count": 13,
     "metadata": {},
     "output_type": "execute_result"
    }
   ],
   "source": [
    "yhat = model.predict(array(testx).reshape(2,20,3), verbose=0)\n",
    "yhat"
   ]
  },
  {
   "cell_type": "code",
   "execution_count": 14,
   "metadata": {},
   "outputs": [
    {
     "data": {
      "text/plain": [
       "array([[0, 1],\n",
       "       [1, 0]], dtype=uint8)"
      ]
     },
     "execution_count": 14,
     "metadata": {},
     "output_type": "execute_result"
    }
   ],
   "source": [
    "np.shape(x)\n",
    "np.shape(trainx)\n",
    "testy"
   ]
  },
  {
   "cell_type": "code",
   "execution_count": 24,
   "metadata": {},
   "outputs": [
    {
     "data": {
      "text/plain": [
       "(480, 1, 3)"
      ]
     },
     "execution_count": 24,
     "metadata": {},
     "output_type": "execute_result"
    }
   ],
   "source": [
    "\n",
    "xx.shape"
   ]
  },
  {
   "cell_type": "code",
   "execution_count": 16,
   "metadata": {
    "collapsed": true
   },
   "outputs": [],
   "source": [
    "all = []\n",
    "for index, excersice in enumerate(x):\n",
    "    for iteration in excersice:\n",
    "        all.append([iteration,y[index]])\n",
    "        \n"
   ]
  },
  {
   "cell_type": "code",
   "execution_count": 17,
   "metadata": {
    "collapsed": true
   },
   "outputs": [],
   "source": [
    "yy = array(all)[:,1]\n",
    "xx = array(array(array(all)[:,0]).tolist())\n",
    "xx = xx.reshape(len(xx),1,3)\n",
    "yy = array(array(yy.tolist()))"
   ]
  },
  {
   "cell_type": "code",
   "execution_count": 27,
   "metadata": {},
   "outputs": [
    {
     "data": {
      "text/plain": [
       "(480, 1, 3)"
      ]
     },
     "execution_count": 27,
     "metadata": {},
     "output_type": "execute_result"
    }
   ],
   "source": [
    "xx.shape"
   ]
  },
  {
   "cell_type": "code",
   "execution_count": 19,
   "metadata": {},
   "outputs": [
    {
     "name": "stdout",
     "output_type": "stream",
     "text": [
      "Epoch 1/1\n",
      "trained epoch 0\n",
      "Epoch 1/1\n",
      "trained epoch 1\n",
      "Epoch 1/1\n",
      "trained epoch 2\n",
      "Epoch 1/1\n",
      "trained epoch 3\n",
      "Epoch 1/1\n",
      "trained epoch 4\n",
      "Epoch 1/1\n",
      "trained epoch 5\n",
      "Epoch 1/1\n",
      "trained epoch 6\n",
      "Epoch 1/1\n",
      "trained epoch 7\n",
      "Epoch 1/1\n",
      "trained epoch 8\n",
      "Epoch 1/1\n",
      "trained epoch 9\n"
     ]
    }
   ],
   "source": [
    "model = Sequential()\n",
    "# model.add(LSTM(10, input_shape=(1,3)))\n",
    "model.add(LSTM(10, batch_input_shape=(1, xx.shape[1], xx.shape[2]), stateful=True))\n",
    "model.add(Dense(2, activation='sigmoid'))\n",
    "# compile model\n",
    "model.compile(loss='binary_crossentropy', optimizer='adam')\n",
    "\n",
    "# model.compile(loss='binary_crossentropy', optimizer='adam')\n",
    "# fit model\n",
    "n_epoch = 10\n",
    "for i in range(n_epoch):\n",
    "    model.fit(xx, yy, epochs=1, batch_size=1, verbose=3, shuffle=False)\n",
    "    print(\"trained epoch\", i)\n",
    "    model.reset_states()"
   ]
  },
  {
   "cell_type": "code",
   "execution_count": null,
   "metadata": {
    "collapsed": true
   },
   "outputs": [],
   "source": []
  },
  {
   "cell_type": "code",
   "execution_count": 24,
   "metadata": {
    "collapsed": true
   },
   "outputs": [],
   "source": [
    "yhat = model.predict(xx, batch_size=1)\n",
    "modelpred = []\n",
    "actualpred = []\n",
    "for val in yhat:\n",
    "    modelpred.append(val.argmax())\n",
    "for val in yy:\n",
    "    actualpred.append(val.argmax())"
   ]
  },
  {
   "cell_type": "code",
   "execution_count": 526,
   "metadata": {
    "collapsed": true
   },
   "outputs": [],
   "source": []
  },
  {
   "cell_type": "code",
   "execution_count": 549,
   "metadata": {},
   "outputs": [
    {
     "data": {
      "text/plain": [
       "True     0.579167\n",
       "False    0.420833\n",
       "Name: 0, dtype: float64"
      ]
     },
     "execution_count": 549,
     "metadata": {},
     "output_type": "execute_result"
    }
   ],
   "source": [
    "results = pd.DataFrame(array(modelpred) == array(actualpred))\n",
    "results[0].value_counts() / len(results[0])"
   ]
  },
  {
   "cell_type": "code",
   "execution_count": 552,
   "metadata": {},
   "outputs": [
    {
     "data": {
      "text/plain": [
       "True     0.85625\n",
       "False    0.14375\n",
       "Name: 0, dtype: float64"
      ]
     },
     "execution_count": 552,
     "metadata": {},
     "output_type": "execute_result"
    }
   ],
   "source": [
    "results = pd.DataFrame(array(modelpred) == array(actualpred))\n",
    "results[0].value_counts() / len(results[0])"
   ]
  },
  {
   "cell_type": "code",
   "execution_count": null,
   "metadata": {
    "collapsed": true
   },
   "outputs": [],
   "source": [
    "# Flattening X & Y\n",
    "# flatx = x.values.flatten()\n",
    "# flatx = flatx[~np.isnan(flatx)]\n",
    "# xcount = x.notnull().sum(axis=1)\n",
    "# flaty = []\n",
    "# for key in xcount.keys():\n",
    "#   y_dummy = yworkout.iloc[key]\n",
    "#   for i in range(0,xcount[key]):\n",
    "#     flaty.append(y_dummy)\n",
    "# flaty = np.array(flaty)"
   ]
  }
 ],
 "metadata": {
  "kernelspec": {
   "display_name": "Python 3",
   "language": "python",
   "name": "python3"
  },
  "language_info": {
   "codemirror_mode": {
    "name": "ipython",
    "version": 3
   },
   "file_extension": ".py",
   "mimetype": "text/x-python",
   "name": "python",
   "nbconvert_exporter": "python",
   "pygments_lexer": "ipython3",
   "version": "3.6.3"
  }
 },
 "nbformat": 4,
 "nbformat_minor": 2
}
